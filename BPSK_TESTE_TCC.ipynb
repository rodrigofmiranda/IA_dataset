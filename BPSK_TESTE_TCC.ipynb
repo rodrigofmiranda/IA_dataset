{
  "cells": [
    {
      "cell_type": "markdown",
      "metadata": {
        "id": "view-in-github",
        "colab_type": "text"
      },
      "source": [
        "<a href=\"https://colab.research.google.com/github/LorenzoDonatti/TCC_DeepLearning_VLC/blob/main/BPSK_TESTE_TCC.ipynb\" target=\"_parent\"><img src=\"https://colab.research.google.com/assets/colab-badge.svg\" alt=\"Open In Colab\"/></a>"
      ]
    },
    {
      "cell_type": "markdown",
      "metadata": {
        "id": "eeIpoWvsiyjO"
      },
      "source": [
        "# **ALGORITMOS DE DEEP LEARNING EM DATASETS DE COMUNICAÇÃO POR LUZ VISIVEL**\n",
        "\n",
        "---\n",
        "\n",
        "\n",
        "TRABALHO DE CONCLUSÃO DE CURSO DO ALUNO LORENZO MOREIRA DONATTI."
      ]
    },
    {
      "cell_type": "markdown",
      "metadata": {
        "id": "LYZE5qEGypBz"
      },
      "source": [
        "# Funções que baixam arquivos Paralelamente\n",
        "\n",
        "---\n",
        "\n",
        "\n",
        "\n",
        "Caso nao seja possível utilizar a biblioteca Gdown na pasta especificada, este metodo de download deve ser utilizado."
      ]
    },
    {
      "cell_type": "code",
      "execution_count": null,
      "metadata": {
        "colab": {
          "base_uri": "https://localhost:8080/"
        },
        "id": "zqz2UjtkncBV",
        "outputId": "1c49328c-be91-4d23-c269-46bc873ac8a1"
      },
      "outputs": [
        {
          "data": {
            "application/vnd.google.colaboratory.intrinsic+json": {
              "type": "string"
            },
            "text/plain": [
              "'import requests\\nfrom multiprocessing import cpu_count\\nfrom multiprocessing.pool import ThreadPool\\n\\ndef download_paralel(args):\\n  cpus = cpu_count()\\n  results = ThreadPool(cpus - 1).imap_unordered(download_url, args)\\n\\n\\ndef download_url(args):\\n  url, output = args[0], args[1]  \\n  try:\\n    gdown.download(url, output, quiet=False, fuzzy=True)\\n  except Exception as e:\\n    print(\"Problem downloading\", e) '"
            ]
          },
          "execution_count": 1,
          "metadata": {},
          "output_type": "execute_result"
        }
      ],
      "source": [
        "'''import requests\n",
        "from multiprocessing import cpu_count\n",
        "from multiprocessing.pool import ThreadPool\n",
        "\n",
        "def download_paralel(args):\n",
        "  cpus = cpu_count()\n",
        "  results = ThreadPool(cpus - 1).imap_unordered(download_url, args)\n",
        "\n",
        "\n",
        "def download_url(args):\n",
        "  url, output = args[0], args[1]  \n",
        "  try:\n",
        "    gdown.download(url, output, quiet=False, fuzzy=True)\n",
        "  except Exception as e:\n",
        "    print(\"Problem downloading\", e) ''' \n"
      ]
    },
    {
      "cell_type": "code",
      "execution_count": null,
      "metadata": {
        "colab": {
          "base_uri": "https://localhost:8080/"
        },
        "id": "V5u4tT29msD8",
        "outputId": "dfb8569a-bc3f-4671-e10d-a635c2e06a8a"
      },
      "outputs": [
        {
          "data": {
            "application/vnd.google.colaboratory.intrinsic+json": {
              "type": "string"
            },
            "text/plain": [
              "'from scipy.io import loadmat\\nimport numpy as np\\nimport pandas as pd\\nimport gdown\\n\\nurls = [\"https://drive.google.com/file/d/1dr6tI_XffRVehcLZByUX1JG476C4Lp7G/view?usp=sharing\", \\n        \"https://drive.google.com/file/d/1klSvkJVIViRFhDbxATzmu0Q1DALoWbJ4/view?usp=sharing\",\\n        \"https://drive.google.com/file/d/1IaVRZB8PtGCjSBZNgEoV-vFtqfndNdX2/view?usp=sharing\",\\n        \"https://drive.google.com/file/d/1XeMiywqTwJvyCFNYt3d5mdBNJmYoqZgt/view?usp=sharing\",\\n        \"https://drive.google.com/file/d/1DGKYFy5Ae0rqLqBozXUDY7EuIY0cbQdP/view?usp=sharing\",\\n        \"https://drive.google.com/file/d/1vPhsrgRWkv1V21lfyfx1BjIw8u4gj3XL/view?usp=sharing\",\\n        \"https://drive.google.com/file/d/1KQn4ljEl-6RRIDtv8a0muO8XvylmtYgh/view?usp=sharing\",\\n        \"https://drive.google.com/file/d/16KNK14QYCJTLHy0ytHlUJfXgZYfEodQ6/view?usp=sharing\",\\n        \"https://drive.google.com/file/d/1hQXpC6StuXM4gJDBiWi-ciIr2IMg00fz/view?usp=sharing\",\\n        \"https://drive.google.com/file/d/1aOvbkHgneQgWCP8ee95cuL834TU2u9lO/view?usp=sharing\",\\n        \"https://drive.google.com/file/d/1XHKMqqJqw4gVSKCB-4XXSo90z-C3qszE/view?usp=sharing\",\\n        \"https://drive.google.com/file/d/1pcJh6eRnifmh6F5HxSPZGIX_Z9n-B6bz/view?usp=sharing\",\\n        \"https://drive.google.com/file/d/1k6W4NTXfZvXEVQkZQmcITILCpYiHzB8a/view?usp=sharing\",\\n        \"https://drive.google.com/file/d/1TCWdZ22pKpy73F-mp2ZrsPnSqdYSvSEa/view?usp=sharing\",\\n        \"https://drive.google.com/file/d/1Wy015sMCoJJS1b8LsvIeiOLlQsrGzalD/view?usp=sharing\",\\n        \"https://drive.google.com/file/d/1KU10g1qWy8ZG3QcJJ6Yv0ubzlZQFuYeP/view?usp=sharing\",\\n        \"https://drive.google.com/file/d/1nYBUSSelA_L0LyIhTty8GcIkT2mYnw51/view?usp=sharing\",\\n        \"https://drive.google.com/file/d/1O99b7y3nzcv5je17DTjVRfPWKKfRm7Tb/view?usp=sharing\"]\\n\\noutputs= [\"0cm.mat\", \"10cm.mat\", \"20cm.mat\", \"30cm.mat\", \"40cm.mat\", \"50cm.mat\", \"60cm.mat\", \"70cm.mat\", \"80cm.mat\", \"90cm.mat\", \"100cm.mat\", \\n          \"110cm.mat\", \"120cm.mat\", \"130cm.mat\", \"140cm.mat\", \"150cm.mat\", \"160cm.mat\", \"170cm.mat\", \"180cm.mat\", \"label.mat\"]       \\n\\ninputs = zip(urls, outputs)\\n\\ndownload_paralel(inputs)  '"
            ]
          },
          "execution_count": 2,
          "metadata": {},
          "output_type": "execute_result"
        }
      ],
      "source": [
        "############ EXEMPLO DE CELULA PARA QUANDO O GDOWN NAO CONSEGUIR ACESSO AO FOLDER####################\n",
        "############ PROCESSO MANUAL ########################\n",
        "\n",
        "'''from scipy.io import loadmat\n",
        "import numpy as np\n",
        "import pandas as pd\n",
        "import gdown\n",
        "\n",
        "urls = [\"https://drive.google.com/file/d/1dr6tI_XffRVehcLZByUX1JG476C4Lp7G/view?usp=sharing\", \n",
        "        \"https://drive.google.com/file/d/1klSvkJVIViRFhDbxATzmu0Q1DALoWbJ4/view?usp=sharing\",\n",
        "        \"https://drive.google.com/file/d/1IaVRZB8PtGCjSBZNgEoV-vFtqfndNdX2/view?usp=sharing\",\n",
        "        \"https://drive.google.com/file/d/1XeMiywqTwJvyCFNYt3d5mdBNJmYoqZgt/view?usp=sharing\",\n",
        "        \"https://drive.google.com/file/d/1DGKYFy5Ae0rqLqBozXUDY7EuIY0cbQdP/view?usp=sharing\",\n",
        "        \"https://drive.google.com/file/d/1vPhsrgRWkv1V21lfyfx1BjIw8u4gj3XL/view?usp=sharing\",\n",
        "        \"https://drive.google.com/file/d/1KQn4ljEl-6RRIDtv8a0muO8XvylmtYgh/view?usp=sharing\",\n",
        "        \"https://drive.google.com/file/d/16KNK14QYCJTLHy0ytHlUJfXgZYfEodQ6/view?usp=sharing\",\n",
        "        \"https://drive.google.com/file/d/1hQXpC6StuXM4gJDBiWi-ciIr2IMg00fz/view?usp=sharing\",\n",
        "        \"https://drive.google.com/file/d/1aOvbkHgneQgWCP8ee95cuL834TU2u9lO/view?usp=sharing\",\n",
        "        \"https://drive.google.com/file/d/1XHKMqqJqw4gVSKCB-4XXSo90z-C3qszE/view?usp=sharing\",\n",
        "        \"https://drive.google.com/file/d/1pcJh6eRnifmh6F5HxSPZGIX_Z9n-B6bz/view?usp=sharing\",\n",
        "        \"https://drive.google.com/file/d/1k6W4NTXfZvXEVQkZQmcITILCpYiHzB8a/view?usp=sharing\",\n",
        "        \"https://drive.google.com/file/d/1TCWdZ22pKpy73F-mp2ZrsPnSqdYSvSEa/view?usp=sharing\",\n",
        "        \"https://drive.google.com/file/d/1Wy015sMCoJJS1b8LsvIeiOLlQsrGzalD/view?usp=sharing\",\n",
        "        \"https://drive.google.com/file/d/1KU10g1qWy8ZG3QcJJ6Yv0ubzlZQFuYeP/view?usp=sharing\",\n",
        "        \"https://drive.google.com/file/d/1nYBUSSelA_L0LyIhTty8GcIkT2mYnw51/view?usp=sharing\",\n",
        "        \"https://drive.google.com/file/d/1O99b7y3nzcv5je17DTjVRfPWKKfRm7Tb/view?usp=sharing\"]\n",
        "\n",
        "outputs= [\"0cm.mat\", \"10cm.mat\", \"20cm.mat\", \"30cm.mat\", \"40cm.mat\", \"50cm.mat\", \"60cm.mat\", \"70cm.mat\", \"80cm.mat\", \"90cm.mat\", \"100cm.mat\", \n",
        "          \"110cm.mat\", \"120cm.mat\", \"130cm.mat\", \"140cm.mat\", \"150cm.mat\", \"160cm.mat\", \"170cm.mat\", \"180cm.mat\", \"label.mat\"]       \n",
        "\n",
        "inputs = zip(urls, outputs)\n",
        "\n",
        "download_paralel(inputs)  '''\n"
      ]
    },
    {
      "cell_type": "markdown",
      "metadata": {
        "id": "Pak_KI9dzBMh"
      },
      "source": [
        "# Importação de Bibliotecas e Download da Pasta no Drive\n",
        "\n",
        "---\n",
        "Como o dataset foi baixado no GDrive, é possível baixar a pasta completa pela biblioteca gdown.\n",
        "Ela ainda fornece como saída, os diretórios de todos arquivos baixados (guardar em variavel)\n"
      ]
    },
    {
      "cell_type": "code",
      "execution_count": 2,
      "metadata": {
        "colab": {
          "base_uri": "https://localhost:8080/",
          "height": 641
        },
        "id": "Xdi8DgRNfFaQ",
        "outputId": "04ec675d-d8bd-45eb-9f35-a821109c94f6"
      },
      "outputs": [
        {
          "output_type": "stream",
          "name": "stdout",
          "text": [
            "Looking in indexes: https://pypi.org/simple, https://us-python.pkg.dev/colab-wheels/public/simple/\n",
            "Requirement already satisfied: gdown in /usr/local/lib/python3.8/dist-packages (4.4.0)\n",
            "Collecting gdown\n",
            "  Downloading gdown-4.6.0-py3-none-any.whl (14 kB)\n",
            "Requirement already satisfied: tqdm in /usr/local/lib/python3.8/dist-packages (from gdown) (4.64.1)\n",
            "Requirement already satisfied: requests[socks] in /usr/local/lib/python3.8/dist-packages (from gdown) (2.25.1)\n",
            "Requirement already satisfied: beautifulsoup4 in /usr/local/lib/python3.8/dist-packages (from gdown) (4.6.3)\n",
            "Requirement already satisfied: filelock in /usr/local/lib/python3.8/dist-packages (from gdown) (3.9.0)\n",
            "Requirement already satisfied: six in /usr/local/lib/python3.8/dist-packages (from gdown) (1.15.0)\n",
            "Requirement already satisfied: urllib3<1.27,>=1.21.1 in /usr/local/lib/python3.8/dist-packages (from requests[socks]->gdown) (1.24.3)\n",
            "Requirement already satisfied: certifi>=2017.4.17 in /usr/local/lib/python3.8/dist-packages (from requests[socks]->gdown) (2022.12.7)\n",
            "Requirement already satisfied: chardet<5,>=3.0.2 in /usr/local/lib/python3.8/dist-packages (from requests[socks]->gdown) (4.0.0)\n",
            "Requirement already satisfied: idna<3,>=2.5 in /usr/local/lib/python3.8/dist-packages (from requests[socks]->gdown) (2.10)\n",
            "Requirement already satisfied: PySocks!=1.5.7,>=1.5.6 in /usr/local/lib/python3.8/dist-packages (from requests[socks]->gdown) (1.7.1)\n",
            "Installing collected packages: gdown\n",
            "  Attempting uninstall: gdown\n",
            "    Found existing installation: gdown 4.4.0\n",
            "    Uninstalling gdown-4.4.0:\n",
            "      Successfully uninstalled gdown-4.4.0\n",
            "Successfully installed gdown-4.6.0\n"
          ]
        },
        {
          "output_type": "display_data",
          "data": {
            "application/vnd.colab-display-data+json": {
              "pip_warning": {
                "packages": [
                  "gdown"
                ]
              }
            }
          },
          "metadata": {}
        },
        {
          "output_type": "stream",
          "name": "stdout",
          "text": [
            "Looking in indexes: https://pypi.org/simple, https://us-python.pkg.dev/colab-wheels/public/simple/\n",
            "Requirement already satisfied: lightgbm in /usr/local/lib/python3.8/dist-packages (2.2.3)\n",
            "Requirement already satisfied: scikit-learn in /usr/local/lib/python3.8/dist-packages (from lightgbm) (1.0.2)\n",
            "Requirement already satisfied: numpy in /usr/local/lib/python3.8/dist-packages (from lightgbm) (1.21.6)\n",
            "Requirement already satisfied: scipy in /usr/local/lib/python3.8/dist-packages (from lightgbm) (1.7.3)\n",
            "Requirement already satisfied: threadpoolctl>=2.0.0 in /usr/local/lib/python3.8/dist-packages (from scikit-learn->lightgbm) (3.1.0)\n",
            "Requirement already satisfied: joblib>=0.11 in /usr/local/lib/python3.8/dist-packages (from scikit-learn->lightgbm) (1.2.0)\n",
            "Looking in indexes: https://pypi.org/simple, https://us-python.pkg.dev/colab-wheels/public/simple/\n",
            "Requirement already satisfied: xgboost in /usr/local/lib/python3.8/dist-packages (0.90)\n",
            "Requirement already satisfied: numpy in /usr/local/lib/python3.8/dist-packages (from xgboost) (1.21.6)\n",
            "Requirement already satisfied: scipy in /usr/local/lib/python3.8/dist-packages (from xgboost) (1.7.3)\n"
          ]
        }
      ],
      "source": [
        "!pip install -U --no-cache-dir gdown --pre\n",
        "\n",
        "!pip install lightgbm\n",
        "\n",
        "!pip install xgboost"
      ]
    },
    {
      "cell_type": "code",
      "execution_count": 31,
      "metadata": {
        "colab": {
          "base_uri": "https://localhost:8080/",
          "height": 424
        },
        "id": "kL19aaCF0ZoB",
        "outputId": "6c9f2846-2213-40d3-8e1c-51d58632a7b1"
      },
      "outputs": [
        {
          "output_type": "execute_result",
          "data": {
            "text/plain": [
              "              0         1\n",
              "0     -0.111332 -0.087802\n",
              "1     -0.118198 -0.097720\n",
              "2      0.117893  0.098209\n",
              "3      0.121189  0.098910\n",
              "4      0.108890  0.087924\n",
              "...         ...       ...\n",
              "12258 -0.083682 -0.132298\n",
              "12259  0.077334  0.120182\n",
              "12260  0.080142  0.127750\n",
              "12261 -0.080996 -0.131565\n",
              "12262  0.080081  0.129612\n",
              "\n",
              "[12263 rows x 2 columns]"
            ],
            "text/html": [
              "\n",
              "  <div id=\"df-0c62bb08-7e22-4803-9e64-792b03edee84\">\n",
              "    <div class=\"colab-df-container\">\n",
              "      <div>\n",
              "<style scoped>\n",
              "    .dataframe tbody tr th:only-of-type {\n",
              "        vertical-align: middle;\n",
              "    }\n",
              "\n",
              "    .dataframe tbody tr th {\n",
              "        vertical-align: top;\n",
              "    }\n",
              "\n",
              "    .dataframe thead th {\n",
              "        text-align: right;\n",
              "    }\n",
              "</style>\n",
              "<table border=\"1\" class=\"dataframe\">\n",
              "  <thead>\n",
              "    <tr style=\"text-align: right;\">\n",
              "      <th></th>\n",
              "      <th>0</th>\n",
              "      <th>1</th>\n",
              "    </tr>\n",
              "  </thead>\n",
              "  <tbody>\n",
              "    <tr>\n",
              "      <th>0</th>\n",
              "      <td>-0.111332</td>\n",
              "      <td>-0.087802</td>\n",
              "    </tr>\n",
              "    <tr>\n",
              "      <th>1</th>\n",
              "      <td>-0.118198</td>\n",
              "      <td>-0.097720</td>\n",
              "    </tr>\n",
              "    <tr>\n",
              "      <th>2</th>\n",
              "      <td>0.117893</td>\n",
              "      <td>0.098209</td>\n",
              "    </tr>\n",
              "    <tr>\n",
              "      <th>3</th>\n",
              "      <td>0.121189</td>\n",
              "      <td>0.098910</td>\n",
              "    </tr>\n",
              "    <tr>\n",
              "      <th>4</th>\n",
              "      <td>0.108890</td>\n",
              "      <td>0.087924</td>\n",
              "    </tr>\n",
              "    <tr>\n",
              "      <th>...</th>\n",
              "      <td>...</td>\n",
              "      <td>...</td>\n",
              "    </tr>\n",
              "    <tr>\n",
              "      <th>12258</th>\n",
              "      <td>-0.083682</td>\n",
              "      <td>-0.132298</td>\n",
              "    </tr>\n",
              "    <tr>\n",
              "      <th>12259</th>\n",
              "      <td>0.077334</td>\n",
              "      <td>0.120182</td>\n",
              "    </tr>\n",
              "    <tr>\n",
              "      <th>12260</th>\n",
              "      <td>0.080142</td>\n",
              "      <td>0.127750</td>\n",
              "    </tr>\n",
              "    <tr>\n",
              "      <th>12261</th>\n",
              "      <td>-0.080996</td>\n",
              "      <td>-0.131565</td>\n",
              "    </tr>\n",
              "    <tr>\n",
              "      <th>12262</th>\n",
              "      <td>0.080081</td>\n",
              "      <td>0.129612</td>\n",
              "    </tr>\n",
              "  </tbody>\n",
              "</table>\n",
              "<p>12263 rows × 2 columns</p>\n",
              "</div>\n",
              "      <button class=\"colab-df-convert\" onclick=\"convertToInteractive('df-0c62bb08-7e22-4803-9e64-792b03edee84')\"\n",
              "              title=\"Convert this dataframe to an interactive table.\"\n",
              "              style=\"display:none;\">\n",
              "        \n",
              "  <svg xmlns=\"http://www.w3.org/2000/svg\" height=\"24px\"viewBox=\"0 0 24 24\"\n",
              "       width=\"24px\">\n",
              "    <path d=\"M0 0h24v24H0V0z\" fill=\"none\"/>\n",
              "    <path d=\"M18.56 5.44l.94 2.06.94-2.06 2.06-.94-2.06-.94-.94-2.06-.94 2.06-2.06.94zm-11 1L8.5 8.5l.94-2.06 2.06-.94-2.06-.94L8.5 2.5l-.94 2.06-2.06.94zm10 10l.94 2.06.94-2.06 2.06-.94-2.06-.94-.94-2.06-.94 2.06-2.06.94z\"/><path d=\"M17.41 7.96l-1.37-1.37c-.4-.4-.92-.59-1.43-.59-.52 0-1.04.2-1.43.59L10.3 9.45l-7.72 7.72c-.78.78-.78 2.05 0 2.83L4 21.41c.39.39.9.59 1.41.59.51 0 1.02-.2 1.41-.59l7.78-7.78 2.81-2.81c.8-.78.8-2.07 0-2.86zM5.41 20L4 18.59l7.72-7.72 1.47 1.35L5.41 20z\"/>\n",
              "  </svg>\n",
              "      </button>\n",
              "      \n",
              "  <style>\n",
              "    .colab-df-container {\n",
              "      display:flex;\n",
              "      flex-wrap:wrap;\n",
              "      gap: 12px;\n",
              "    }\n",
              "\n",
              "    .colab-df-convert {\n",
              "      background-color: #E8F0FE;\n",
              "      border: none;\n",
              "      border-radius: 50%;\n",
              "      cursor: pointer;\n",
              "      display: none;\n",
              "      fill: #1967D2;\n",
              "      height: 32px;\n",
              "      padding: 0 0 0 0;\n",
              "      width: 32px;\n",
              "    }\n",
              "\n",
              "    .colab-df-convert:hover {\n",
              "      background-color: #E2EBFA;\n",
              "      box-shadow: 0px 1px 2px rgba(60, 64, 67, 0.3), 0px 1px 3px 1px rgba(60, 64, 67, 0.15);\n",
              "      fill: #174EA6;\n",
              "    }\n",
              "\n",
              "    [theme=dark] .colab-df-convert {\n",
              "      background-color: #3B4455;\n",
              "      fill: #D2E3FC;\n",
              "    }\n",
              "\n",
              "    [theme=dark] .colab-df-convert:hover {\n",
              "      background-color: #434B5C;\n",
              "      box-shadow: 0px 1px 3px 1px rgba(0, 0, 0, 0.15);\n",
              "      filter: drop-shadow(0px 1px 2px rgba(0, 0, 0, 0.3));\n",
              "      fill: #FFFFFF;\n",
              "    }\n",
              "  </style>\n",
              "\n",
              "      <script>\n",
              "        const buttonEl =\n",
              "          document.querySelector('#df-0c62bb08-7e22-4803-9e64-792b03edee84 button.colab-df-convert');\n",
              "        buttonEl.style.display =\n",
              "          google.colab.kernel.accessAllowed ? 'block' : 'none';\n",
              "\n",
              "        async function convertToInteractive(key) {\n",
              "          const element = document.querySelector('#df-0c62bb08-7e22-4803-9e64-792b03edee84');\n",
              "          const dataTable =\n",
              "            await google.colab.kernel.invokeFunction('convertToInteractive',\n",
              "                                                     [key], {});\n",
              "          if (!dataTable) return;\n",
              "\n",
              "          const docLinkHtml = 'Like what you see? Visit the ' +\n",
              "            '<a target=\"_blank\" href=https://colab.research.google.com/notebooks/data_table.ipynb>data table notebook</a>'\n",
              "            + ' to learn more about interactive tables.';\n",
              "          element.innerHTML = '';\n",
              "          dataTable['output_type'] = 'display_data';\n",
              "          await google.colab.output.renderOutput(dataTable, element);\n",
              "          const docLink = document.createElement('div');\n",
              "          docLink.innerHTML = docLinkHtml;\n",
              "          element.appendChild(docLink);\n",
              "        }\n",
              "      </script>\n",
              "    </div>\n",
              "  </div>\n",
              "  "
            ]
          },
          "metadata": {},
          "execution_count": 31
        }
      ],
      "source": [
        "from scipy.io import loadmat\n",
        "import numpy as np\n",
        "import pandas as pd\n",
        "import gdown\n",
        "\n",
        "df_label = pd.read_csv(\"https://raw.githubusercontent.com/rodrigofmiranda/IA_VLC_new_dataset/main/IA_data_label.csv\", header=None)\n",
        "df = pd.read_csv(\"https://raw.githubusercontent.com/rodrigofmiranda/IA_VLC_new_dataset/main/IA_rx_data.csv\", header=None)\n",
        "\n",
        "df"
      ]
    },
    {
      "cell_type": "code",
      "execution_count": 32,
      "metadata": {
        "colab": {
          "base_uri": "https://localhost:8080/",
          "height": 300
        },
        "id": "k4A5YMok8vq7",
        "outputId": "a68b5440-905e-44c6-a070-1d076f566850"
      },
      "outputs": [
        {
          "output_type": "stream",
          "name": "stdout",
          "text": [
            "   1000  1001  1002  1003  1004\n",
            "0     1     1    -1    -1     1\n"
          ]
        },
        {
          "output_type": "display_data",
          "data": {
            "text/plain": [
              "<Figure size 432x288 with 1 Axes>"
            ],
            "image/png": "[encoded data removed]"
          },
          "metadata": {
            "needs_background": "light"
          }
        }
      ],
      "source": [
        "import pandas as pd\n",
        "\n",
        "df.iloc[:].plot()\n",
        "print(df_label[1000:1005].T)"
      ]
    },
    {
      "cell_type": "code",
      "execution_count": 42,
      "metadata": {
        "id": "cEuvXZYPAaIq"
      },
      "outputs": [],
      "source": [
        "from sklearn import preprocessing\n",
        "from sklearn import utils\n",
        "\n",
        "lab = preprocessing.LabelEncoder()\n",
        "y_transf = lab.fit_transform(df_label.to_numpy().ravel())"
      ]
    },
    {
      "cell_type": "code",
      "execution_count": 56,
      "metadata": {
        "id": "tYbiLoYcdRO2",
        "colab": {
          "base_uri": "https://localhost:8080/",
          "height": 424
        },
        "outputId": "4e84f9ab-1412-4e35-fb01-bc79609f422c"
      },
      "outputs": [
        {
          "output_type": "execute_result",
          "data": {
            "text/plain": [
              "              0         1\n",
              "1941  -0.142064  0.036988\n",
              "12050  0.063021  0.124058\n",
              "9761  -0.072817  0.103702\n",
              "6606  -0.127445 -0.077578\n",
              "10341  0.054994 -0.141697\n",
              "...         ...       ...\n",
              "4859   0.016511  0.112278\n",
              "3264  -0.093295  0.119907\n",
              "9845   0.076083 -0.111576\n",
              "10799 -0.020051  0.127964\n",
              "2732   0.098910 -0.075838\n",
              "\n",
              "[11036 rows x 2 columns]"
            ],
            "text/html": [
              "\n",
              "  <div id=\"df-214fe7ee-f024-431a-8602-35830fa9cd04\">\n",
              "    <div class=\"colab-df-container\">\n",
              "      <div>\n",
              "<style scoped>\n",
              "    .dataframe tbody tr th:only-of-type {\n",
              "        vertical-align: middle;\n",
              "    }\n",
              "\n",
              "    .dataframe tbody tr th {\n",
              "        vertical-align: top;\n",
              "    }\n",
              "\n",
              "    .dataframe thead th {\n",
              "        text-align: right;\n",
              "    }\n",
              "</style>\n",
              "<table border=\"1\" class=\"dataframe\">\n",
              "  <thead>\n",
              "    <tr style=\"text-align: right;\">\n",
              "      <th></th>\n",
              "      <th>0</th>\n",
              "      <th>1</th>\n",
              "    </tr>\n",
              "  </thead>\n",
              "  <tbody>\n",
              "    <tr>\n",
              "      <th>1941</th>\n",
              "      <td>-0.142064</td>\n",
              "      <td>0.036988</td>\n",
              "    </tr>\n",
              "    <tr>\n",
              "      <th>12050</th>\n",
              "      <td>0.063021</td>\n",
              "      <td>0.124058</td>\n",
              "    </tr>\n",
              "    <tr>\n",
              "      <th>9761</th>\n",
              "      <td>-0.072817</td>\n",
              "      <td>0.103702</td>\n",
              "    </tr>\n",
              "    <tr>\n",
              "      <th>6606</th>\n",
              "      <td>-0.127445</td>\n",
              "      <td>-0.077578</td>\n",
              "    </tr>\n",
              "    <tr>\n",
              "      <th>10341</th>\n",
              "      <td>0.054994</td>\n",
              "      <td>-0.141697</td>\n",
              "    </tr>\n",
              "    <tr>\n",
              "      <th>...</th>\n",
              "      <td>...</td>\n",
              "      <td>...</td>\n",
              "    </tr>\n",
              "    <tr>\n",
              "      <th>4859</th>\n",
              "      <td>0.016511</td>\n",
              "      <td>0.112278</td>\n",
              "    </tr>\n",
              "    <tr>\n",
              "      <th>3264</th>\n",
              "      <td>-0.093295</td>\n",
              "      <td>0.119907</td>\n",
              "    </tr>\n",
              "    <tr>\n",
              "      <th>9845</th>\n",
              "      <td>0.076083</td>\n",
              "      <td>-0.111576</td>\n",
              "    </tr>\n",
              "    <tr>\n",
              "      <th>10799</th>\n",
              "      <td>-0.020051</td>\n",
              "      <td>0.127964</td>\n",
              "    </tr>\n",
              "    <tr>\n",
              "      <th>2732</th>\n",
              "      <td>0.098910</td>\n",
              "      <td>-0.075838</td>\n",
              "    </tr>\n",
              "  </tbody>\n",
              "</table>\n",
              "<p>11036 rows × 2 columns</p>\n",
              "</div>\n",
              "      <button class=\"colab-df-convert\" onclick=\"convertToInteractive('df-214fe7ee-f024-431a-8602-35830fa9cd04')\"\n",
              "              title=\"Convert this dataframe to an interactive table.\"\n",
              "              style=\"display:none;\">\n",
              "        \n",
              "  <svg xmlns=\"http://www.w3.org/2000/svg\" height=\"24px\"viewBox=\"0 0 24 24\"\n",
              "       width=\"24px\">\n",
              "    <path d=\"M0 0h24v24H0V0z\" fill=\"none\"/>\n",
              "    <path d=\"M18.56 5.44l.94 2.06.94-2.06 2.06-.94-2.06-.94-.94-2.06-.94 2.06-2.06.94zm-11 1L8.5 8.5l.94-2.06 2.06-.94-2.06-.94L8.5 2.5l-.94 2.06-2.06.94zm10 10l.94 2.06.94-2.06 2.06-.94-2.06-.94-.94-2.06-.94 2.06-2.06.94z\"/><path d=\"M17.41 7.96l-1.37-1.37c-.4-.4-.92-.59-1.43-.59-.52 0-1.04.2-1.43.59L10.3 9.45l-7.72 7.72c-.78.78-.78 2.05 0 2.83L4 21.41c.39.39.9.59 1.41.59.51 0 1.02-.2 1.41-.59l7.78-7.78 2.81-2.81c.8-.78.8-2.07 0-2.86zM5.41 20L4 18.59l7.72-7.72 1.47 1.35L5.41 20z\"/>\n",
              "  </svg>\n",
              "      </button>\n",
              "      \n",
              "  <style>\n",
              "    .colab-df-container {\n",
              "      display:flex;\n",
              "      flex-wrap:wrap;\n",
              "      gap: 12px;\n",
              "    }\n",
              "\n",
              "    .colab-df-convert {\n",
              "      background-color: #E8F0FE;\n",
              "      border: none;\n",
              "      border-radius: 50%;\n",
              "      cursor: pointer;\n",
              "      display: none;\n",
              "      fill: #1967D2;\n",
              "      height: 32px;\n",
              "      padding: 0 0 0 0;\n",
              "      width: 32px;\n",
              "    }\n",
              "\n",
              "    .colab-df-convert:hover {\n",
              "      background-color: #E2EBFA;\n",
              "      box-shadow: 0px 1px 2px rgba(60, 64, 67, 0.3), 0px 1px 3px 1px rgba(60, 64, 67, 0.15);\n",
              "      fill: #174EA6;\n",
              "    }\n",
              "\n",
              "    [theme=dark] .colab-df-convert {\n",
              "      background-color: #3B4455;\n",
              "      fill: #D2E3FC;\n",
              "    }\n",
              "\n",
              "    [theme=dark] .colab-df-convert:hover {\n",
              "      background-color: #434B5C;\n",
              "      box-shadow: 0px 1px 3px 1px rgba(0, 0, 0, 0.15);\n",
              "      filter: drop-shadow(0px 1px 2px rgba(0, 0, 0, 0.3));\n",
              "      fill: #FFFFFF;\n",
              "    }\n",
              "  </style>\n",
              "\n",
              "      <script>\n",
              "        const buttonEl =\n",
              "          document.querySelector('#df-214fe7ee-f024-431a-8602-35830fa9cd04 button.colab-df-convert');\n",
              "        buttonEl.style.display =\n",
              "          google.colab.kernel.accessAllowed ? 'block' : 'none';\n",
              "\n",
              "        async function convertToInteractive(key) {\n",
              "          const element = document.querySelector('#df-214fe7ee-f024-431a-8602-35830fa9cd04');\n",
              "          const dataTable =\n",
              "            await google.colab.kernel.invokeFunction('convertToInteractive',\n",
              "                                                     [key], {});\n",
              "          if (!dataTable) return;\n",
              "\n",
              "          const docLinkHtml = 'Like what you see? Visit the ' +\n",
              "            '<a target=\"_blank\" href=https://colab.research.google.com/notebooks/data_table.ipynb>data table notebook</a>'\n",
              "            + ' to learn more about interactive tables.';\n",
              "          element.innerHTML = '';\n",
              "          dataTable['output_type'] = 'display_data';\n",
              "          await google.colab.output.renderOutput(dataTable, element);\n",
              "          const docLink = document.createElement('div');\n",
              "          docLink.innerHTML = docLinkHtml;\n",
              "          element.appendChild(docLink);\n",
              "        }\n",
              "      </script>\n",
              "    </div>\n",
              "  </div>\n",
              "  "
            ]
          },
          "metadata": {},
          "execution_count": 56
        }
      ],
      "source": [
        "from sklearn.model_selection import train_test_split\n",
        "\n",
        "X_train, X_test, y_train, y_test  = train_test_split(df, y_transf, test_size=0.10, random_state=0)\n",
        "X_train"
      ]
    },
    {
      "cell_type": "code",
      "execution_count": 66,
      "metadata": {
        "colab": {
          "base_uri": "https://localhost:8080/"
        },
        "id": "PmgkPCHOdaIW",
        "outputId": "2ba0f49d-92c1-4f0b-80d5-966402527c26"
      },
      "outputs": [
        {
          "output_type": "stream",
          "name": "stdout",
          "text": [
            "\n",
            "Acuracia: 73.10513447432763 %\n"
          ]
        }
      ],
      "source": [
        "from sklearn.ensemble import RandomForestClassifier\n",
        "from sklearn.metrics import accuracy_score\n",
        "\n",
        "clf = RandomForestClassifier(max_depth=20, random_state=0, n_jobs=-1)\n",
        "clf.fit(X_train, y_train)\n",
        "\n",
        "y_pred = clf.predict(X_test)\n",
        "\n",
        "print(\"\\nAcuracia:\", accuracy_score(y_test, y_pred)*100, \"%\")"
      ]
    },
    {
      "cell_type": "code",
      "source": [
        "for i in range(50):\n",
        "  print(y_pred[i], y_test[i])"
      ],
      "metadata": {
        "id": "MXVIC7_NgeY5"
      },
      "execution_count": null,
      "outputs": []
    },
    {
      "cell_type": "code",
      "source": [
        "from sklearn.metrics import confusion_matrix\n",
        "\n",
        "cm = confusion_matrix(y_test, y_pred)\n",
        "print(\"Matriz de confusão: \\n VP  FN\")\n",
        "print(cm)\n",
        "print(\" FP  VN\")"
      ],
      "metadata": {
        "colab": {
          "base_uri": "https://localhost:8080/"
        },
        "id": "P9eRXQxogxqm",
        "outputId": "57b69bf8-9eaf-4c2f-a5b9-3e1e604b6178"
      },
      "execution_count": 61,
      "outputs": [
        {
          "output_type": "stream",
          "name": "stdout",
          "text": [
            "Matriz de confusão: \n",
            " VP  FN\n",
            "[[425 174]\n",
            " [156 472]]\n",
            " FP  VN\n"
          ]
        }
      ]
    },
    {
      "cell_type": "code",
      "execution_count": 62,
      "metadata": {
        "colab": {
          "base_uri": "https://localhost:8080/"
        },
        "id": "_l3CuQf3gjN3",
        "outputId": "c37ec35f-4e0f-4e66-e082-970d316690be"
      },
      "outputs": [
        {
          "output_type": "stream",
          "name": "stdout",
          "text": [
            "\n",
            "Acuracia: 64.95517522412388 %\n"
          ]
        }
      ],
      "source": [
        "from xgboost import XGBClassifier\n",
        "from sklearn.metrics import accuracy_score\n",
        "\n",
        "clf = XGBClassifier()\n",
        "clf.fit(X_train, y_train)\n",
        "\n",
        "y_pred = clf.predict(X_test)\n",
        "\n",
        "print(\"\\nAcuracia:\", accuracy_score(y_test, y_pred)*100, \"%\")"
      ]
    },
    {
      "cell_type": "code",
      "source": [
        "from sklearn.linear_model import LogisticRegression\n",
        "\n",
        "clf = LogisticRegression(random_state=0).fit(X_train, y_train)\n",
        "\n",
        "y_pred = clf.predict(X_test)\n",
        "print(\"\\nAcuracia:\", accuracy_score(y_test, y_pred)*100, \"%\")"
      ],
      "metadata": {
        "colab": {
          "base_uri": "https://localhost:8080/"
        },
        "id": "tsuj69n0hhHM",
        "outputId": "faac0734-7278-4038-8763-ffc24eae6264"
      },
      "execution_count": 65,
      "outputs": [
        {
          "output_type": "stream",
          "name": "stdout",
          "text": [
            "\n",
            "Acuracia: 52.64873675631622 %\n"
          ]
        }
      ]
    },
    {
      "cell_type": "code",
      "execution_count": null,
      "metadata": {
        "colab": {
          "base_uri": "https://localhost:8080/"
        },
        "id": "SCyzMVgqtMvf",
        "outputId": "eedbf20d-db64-4f03-c8be-61fc981c2b52"
      },
      "outputs": [
        {
          "output_type": "execute_result",
          "data": {
            "text/plain": [
              "[<matplotlib.lines.Line2D at 0x7f01d76d8fa0>]"
            ]
          },
          "metadata": {},
          "execution_count": 12
        },
        {
          "output_type": "display_data",
          "data": {
            "text/plain": [
              "<Figure size 432x288 with 1 Axes>"
            ],
            "image/png": "[encoded data removed]"
          },
          "metadata": {
            "needs_background": "light"
          }
        }
      ],
      "source": [
        "import lightgbm as lgb\n",
        "from sklearn.metrics import accuracy_score\n",
        "\n",
        "clf = lgb.LGBMClassifier(n_estimators = 100)\n",
        "clf.fit(X_train, y_train)\n",
        "\n",
        "clf_Gauss = lgb.LGBMClassifier(n_estimators = 100)\n",
        "clf_Gauss.fit(X_train_Gauss, y_train)\n",
        "\n",
        "i=0\n",
        "distancia = []\n",
        "acur_lgb = []\n",
        "acur_lgb_Gauss = []\n",
        "for j in range(len(teste_Xtest)):\n",
        "  X_test_Gauss = gaussian_filter1d(teste_Xtest[j],3)\n",
        "\n",
        "  y_pred = clf.predict(teste_Xtest[j])\n",
        "  y_pred_Gauss = clf_Gauss.predict(X_test_Gauss)\n",
        "\n",
        "  #print(\"\\nAcuracia:\", accuracy_score(y_test, y_pred)*100, \"%   Distancia:\", i)\n",
        "  acur_lgb.append(accuracy_score(teste_Ytest[j], y_pred)*100)\n",
        "  acur_lgb_Gauss.append(accuracy_score(teste_Ytest[j], y_pred_Gauss)*100)\n",
        "  distancia.append(i)\n",
        "  i = i + 5\n",
        "\n",
        "import matplotlib.pyplot as plt\n",
        "plt.plot(distancia,acur_lgb) \n",
        "plt.plot(distancia,acur_lgb_Gauss, '.')"
      ]
    },
    {
      "cell_type": "markdown",
      "source": [
        "# PLOT DOS GRAFICOS ARVORES DE DECISÃO\n",
        "\n",
        "---\n",
        "\n"
      ],
      "metadata": {
        "id": "WWne964-qm_R"
      }
    },
    {
      "cell_type": "code",
      "execution_count": null,
      "metadata": {
        "id": "MH23rXZjtcQN",
        "colab": {
          "base_uri": "https://localhost:8080/",
          "height": 513
        },
        "outputId": "19b85d94-dc4d-42f5-b8ea-02d5ce856a40"
      },
      "outputs": [
        {
          "output_type": "display_data",
          "data": {
            "text/plain": [
              "<Figure size 432x288 with 1 Axes>"
            ],
            "image/png": "[encoded data removed]"
          },
          "metadata": {
            "needs_background": "light"
          }
        },
        {
          "output_type": "display_data",
          "data": {
            "text/plain": [
              "<Figure size 432x288 with 1 Axes>"
            ],
            "image/png": "[encoded data removed]"
          },
          "metadata": {
            "needs_background": "light"
          }
        }
      ],
      "source": [
        "import matplotlib.pyplot as plt\n",
        "plt.plot(distancia,acur_lgb, '--') \n",
        "plt.plot(distancia,acur_RF,'.') \n",
        "plt.plot(distancia,acur_XGB) \n",
        "plt.show()\n",
        "\n",
        "plt.plot(distancia,acur_lgb_Gauss, '--') \n",
        "plt.plot(distancia,acur_RF_Gauss,'.') \n",
        "plt.plot(distancia,acur_XGB_Gauss) \n",
        "plt.show()"
      ]
    },
    {
      "cell_type": "markdown",
      "metadata": {
        "id": "-iJKlwAi3Ezq"
      },
      "source": [
        "# **REDE NEURAL**\n",
        "\n",
        "---\n",
        "\n"
      ]
    },
    {
      "cell_type": "code",
      "execution_count": null,
      "metadata": {
        "colab": {
          "base_uri": "https://localhost:8080/"
        },
        "id": "D2otfCk_3Ary",
        "outputId": "0910d133-6a0b-405d-9af2-8ade6ae8ae58"
      },
      "outputs": [
        {
          "output_type": "stream",
          "name": "stdout",
          "text": [
            "Model: \"sequential\"\n",
            "_________________________________________________________________\n",
            " Layer (type)                Output Shape              Param #   \n",
            "=================================================================\n",
            " dense (Dense)               (None, 10)                810       \n",
            "                                                                 \n",
            " dense_1 (Dense)             (None, 10)                110       \n",
            "                                                                 \n",
            " dense_2 (Dense)             (None, 20)                220       \n",
            "                                                                 \n",
            " dense_3 (Dense)             (None, 1)                 21        \n",
            "                                                                 \n",
            "=================================================================\n",
            "Total params: 1,161\n",
            "Trainable params: 1,161\n",
            "Non-trainable params: 0\n",
            "_________________________________________________________________\n",
            "Model: \"sequential_1\"\n",
            "_________________________________________________________________\n",
            " Layer (type)                Output Shape              Param #   \n",
            "=================================================================\n",
            " dense_4 (Dense)             (None, 100)               8100      \n",
            "                                                                 \n",
            " dense_5 (Dense)             (None, 100)               10100     \n",
            "                                                                 \n",
            " dense_6 (Dense)             (None, 200)               20200     \n",
            "                                                                 \n",
            " dense_7 (Dense)             (None, 1)                 201       \n",
            "                                                                 \n",
            "=================================================================\n",
            "Total params: 38,601\n",
            "Trainable params: 38,601\n",
            "Non-trainable params: 0\n",
            "_________________________________________________________________\n"
          ]
        }
      ],
      "source": [
        "from tensorflow import keras\n",
        "from keras import layers\n",
        "\n",
        "modelo1 = keras.Sequential(\n",
        "    [\n",
        "    keras.Input(shape=(80)),\n",
        "    layers.Dense(10, activation='relu'),\n",
        "    layers.Dense(10, activation = 'relu'),\n",
        "    layers.Dense(20, activation = 'relu'),\n",
        "    layers.Dense(1, activation = 'sigmoid'),\n",
        "    ]\n",
        ")\n",
        "\n",
        "modelo1.summary()\n",
        "modelo1.compile(loss='mean_squared_error',\n",
        "              optimizer = 'SGD', metrics=['accuracy'])\n",
        "\n",
        "\n",
        "modelo2 = keras.Sequential(\n",
        "    [\n",
        "    keras.Input(shape=(80)),\n",
        "    layers.Dense(100, activation='relu'),\n",
        "    layers.Dense(100, activation = 'relu'),\n",
        "    layers.Dense(200, activation = 'relu'),\n",
        "    layers.Dense(1, activation = 'sigmoid'),\n",
        "    ]\n",
        ")\n",
        "\n",
        "modelo2.summary()\n",
        "modelo2.compile(loss='mean_squared_error',\n",
        "              optimizer = 'SGD', metrics=['accuracy'])"
      ]
    },
    {
      "cell_type": "code",
      "execution_count": null,
      "metadata": {
        "colab": {
          "base_uri": "https://localhost:8080/"
        },
        "id": "-Xq8LWNP72kS",
        "outputId": "502538c6-6d92-4c9f-8c1c-ec8a4c98ddea"
      },
      "outputs": [
        {
          "output_type": "stream",
          "name": "stdout",
          "text": [
            "47/47 [==============================] - 0s 2ms/step - loss: 1.5467e-04 - accuracy: 1.0000\n",
            "47/47 [==============================] - 0s 2ms/step - loss: 1.5394e-04 - accuracy: 1.0000\n",
            "47/47 [==============================] - 0s 2ms/step - loss: 1.5257e-04 - accuracy: 1.0000\n",
            "47/47 [==============================] - 0s 2ms/step - loss: 1.6301e-04 - accuracy: 1.0000\n",
            "47/47 [==============================] - 0s 2ms/step - loss: 1.5765e-04 - accuracy: 1.0000\n",
            "47/47 [==============================] - 0s 2ms/step - loss: 1.5765e-04 - accuracy: 1.0000\n",
            "47/47 [==============================] - 0s 2ms/step - loss: 2.1972e-04 - accuracy: 1.0000\n",
            "47/47 [==============================] - 0s 2ms/step - loss: 6.8337e-04 - accuracy: 1.0000\n",
            "47/47 [==============================] - 0s 2ms/step - loss: 0.0022 - accuracy: 0.9997\n",
            "47/47 [==============================] - 0s 2ms/step - loss: 0.0070 - accuracy: 0.9973\n",
            "47/47 [==============================] - 0s 2ms/step - loss: 0.0185 - accuracy: 0.9874\n",
            "47/47 [==============================] - 0s 2ms/step - loss: 0.0137 - accuracy: 0.9912\n",
            "47/47 [==============================] - 0s 2ms/step - loss: 0.0293 - accuracy: 0.9685\n",
            "47/47 [==============================] - 0s 2ms/step - loss: 0.0190 - accuracy: 0.9810\n",
            "47/47 [==============================] - 0s 2ms/step - loss: 0.0159 - accuracy: 0.9894\n",
            "47/47 [==============================] - 0s 2ms/step - loss: 0.0262 - accuracy: 0.9753\n",
            "47/47 [==============================] - 0s 2ms/step - loss: 0.0267 - accuracy: 0.9768\n",
            "47/47 [==============================] - 0s 2ms/step - loss: 0.0285 - accuracy: 0.9774\n",
            "47/47 [==============================] - 0s 2ms/step - loss: 0.0305 - accuracy: 0.9724\n",
            "47/47 [==============================] - 0s 2ms/step - loss: 0.0366 - accuracy: 0.9707\n",
            "47/47 [==============================] - 0s 2ms/step - loss: 0.0513 - accuracy: 0.9428\n",
            "47/47 [==============================] - 0s 2ms/step - loss: 0.0674 - accuracy: 0.9279\n",
            "47/47 [==============================] - 0s 2ms/step - loss: 0.1053 - accuracy: 0.8483\n",
            "47/47 [==============================] - 0s 2ms/step - loss: 0.1005 - accuracy: 0.8645\n",
            "47/47 [==============================] - 0s 2ms/step - loss: 0.1276 - accuracy: 0.8143\n",
            "47/47 [==============================] - 0s 2ms/step - loss: 0.1265 - accuracy: 0.8227\n",
            "47/47 [==============================] - 0s 2ms/step - loss: 0.1616 - accuracy: 0.7655\n",
            "47/47 [==============================] - 0s 2ms/step - loss: 0.2506 - accuracy: 0.6365\n",
            "47/47 [==============================] - 0s 2ms/step - loss: 0.1913 - accuracy: 0.7189\n",
            "47/47 [==============================] - 0s 2ms/step - loss: 0.2713 - accuracy: 0.6200\n",
            "47/47 [==============================] - 0s 2ms/step - loss: 0.2039 - accuracy: 0.6988\n",
            "47/47 [==============================] - 0s 2ms/step - loss: 0.1969 - accuracy: 0.7106\n",
            "47/47 [==============================] - 0s 2ms/step - loss: 0.2633 - accuracy: 0.6192\n",
            "47/47 [==============================] - 0s 2ms/step - loss: 0.2186 - accuracy: 0.6778\n",
            "47/47 [==============================] - 0s 2ms/step - loss: 0.2526 - accuracy: 0.6362\n",
            "47/47 [==============================] - 0s 2ms/step - loss: 0.2743 - accuracy: 0.6019\n",
            "47/47 [==============================] - 0s 2ms/step - loss: 0.2291 - accuracy: 0.6633\n",
            "47/47 [==============================] - 0s 2ms/step - loss: 7.8364e-05 - accuracy: 1.0000\n",
            "47/47 [==============================] - 0s 2ms/step - loss: 7.5518e-05 - accuracy: 1.0000\n",
            "47/47 [==============================] - 0s 2ms/step - loss: 7.2781e-05 - accuracy: 1.0000\n",
            "47/47 [==============================] - 0s 2ms/step - loss: 9.2552e-05 - accuracy: 1.0000\n",
            "47/47 [==============================] - 0s 2ms/step - loss: 1.0652e-04 - accuracy: 1.0000\n",
            "47/47 [==============================] - 0s 2ms/step - loss: 1.0652e-04 - accuracy: 1.0000\n",
            "47/47 [==============================] - 0s 2ms/step - loss: 2.1781e-04 - accuracy: 1.0000\n",
            "47/47 [==============================] - 0s 2ms/step - loss: 0.0014 - accuracy: 1.0000\n",
            "47/47 [==============================] - 0s 2ms/step - loss: 0.0048 - accuracy: 0.9990\n",
            "47/47 [==============================] - 0s 2ms/step - loss: 0.0150 - accuracy: 0.9879\n",
            "47/47 [==============================] - 0s 2ms/step - loss: 0.0408 - accuracy: 0.9539\n",
            "47/47 [==============================] - 0s 2ms/step - loss: 0.0294 - accuracy: 0.9687\n",
            "47/47 [==============================] - 0s 2ms/step - loss: 0.0591 - accuracy: 0.9185\n",
            "47/47 [==============================] - 0s 2ms/step - loss: 0.0369 - accuracy: 0.9557\n",
            "47/47 [==============================] - 0s 2ms/step - loss: 0.0255 - accuracy: 0.9741\n",
            "47/47 [==============================] - 0s 2ms/step - loss: 0.0488 - accuracy: 0.9365\n",
            "47/47 [==============================] - 0s 2ms/step - loss: 0.0456 - accuracy: 0.9465\n",
            "47/47 [==============================] - 0s 2ms/step - loss: 0.0453 - accuracy: 0.9480\n",
            "47/47 [==============================] - 0s 2ms/step - loss: 0.0309 - accuracy: 0.9719\n",
            "47/47 [==============================] - 0s 2ms/step - loss: 0.0503 - accuracy: 0.9426\n",
            "47/47 [==============================] - 0s 2ms/step - loss: 0.0552 - accuracy: 0.9362\n",
            "47/47 [==============================] - 0s 2ms/step - loss: 0.0843 - accuracy: 0.8894\n",
            "47/47 [==============================] - 0s 2ms/step - loss: 0.0806 - accuracy: 0.9012\n",
            "47/47 [==============================] - 0s 2ms/step - loss: 0.1178 - accuracy: 0.8318\n",
            "47/47 [==============================] - 0s 2ms/step - loss: 0.1104 - accuracy: 0.8468\n",
            "47/47 [==============================] - 0s 2ms/step - loss: 0.1178 - accuracy: 0.8328\n",
            "47/47 [==============================] - 0s 2ms/step - loss: 0.1488 - accuracy: 0.7820\n",
            "47/47 [==============================] - 0s 2ms/step - loss: 0.2335 - accuracy: 0.6621\n",
            "47/47 [==============================] - 0s 2ms/step - loss: 0.1581 - accuracy: 0.7763\n",
            "47/47 [==============================] - 0s 2ms/step - loss: 0.2395 - accuracy: 0.6569\n",
            "47/47 [==============================] - 0s 2ms/step - loss: 0.1747 - accuracy: 0.7449\n",
            "47/47 [==============================] - 0s 2ms/step - loss: 0.1959 - accuracy: 0.7069\n",
            "47/47 [==============================] - 0s 2ms/step - loss: 0.2201 - accuracy: 0.6697\n",
            "47/47 [==============================] - 0s 2ms/step - loss: 0.1986 - accuracy: 0.7039\n",
            "47/47 [==============================] - 0s 2ms/step - loss: 0.2174 - accuracy: 0.6791\n",
            "47/47 [==============================] - 0s 2ms/step - loss: 0.2564 - accuracy: 0.6081\n",
            "47/47 [==============================] - 0s 2ms/step - loss: 0.2248 - accuracy: 0.6569\n"
          ]
        }
      ],
      "source": [
        "modelo1.fit(X_train, y_train, \n",
        "          batch_size=128, epochs=8,\n",
        "          verbose=0)\n",
        "\n",
        "i=0\n",
        "acur_NN_menor = []\n",
        "distancia = []\n",
        "for j in range(len(teste_Xtest)):\n",
        "  score, acc = modelo1.evaluate(teste_Xtest[j], teste_Ytest[j],\n",
        "                              batch_size=128)\n",
        "  acur_NN_menor.append(acc)\n",
        "  distancia.append(i)\n",
        "  i = i + 5\n",
        "\n",
        "####FILTRO GAUSSIANO####\n",
        "modelo1.fit(X_train_Gauss, y_train, \n",
        "          batch_size=128, epochs=8,\n",
        "          verbose=0)\n",
        "\n",
        "i=0\n",
        "acur_NN_menor_Gauss = []\n",
        "distancia = []\n",
        "for j in range(len(teste_Xtest)):\n",
        "  X_test_Gauss = gaussian_filter1d(teste_Xtest[j],3)\n",
        "  score, acc = modelo1.evaluate(X_test_Gauss, teste_Ytest[j],\n",
        "                              batch_size=128)\n",
        "  acur_NN_menor_Gauss.append(acc)\n",
        "  distancia.append(i)\n",
        "  i = i + 5 "
      ]
    },
    {
      "cell_type": "code",
      "execution_count": null,
      "metadata": {
        "id": "UKW1SGQldWLA",
        "colab": {
          "base_uri": "https://localhost:8080/"
        },
        "outputId": "e01d5241-aa0a-4799-e2e3-0727cb5de1a2"
      },
      "outputs": [
        {
          "output_type": "stream",
          "name": "stdout",
          "text": [
            "47/47 [==============================] - 0s 2ms/step - loss: 1.0509e-04 - accuracy: 1.0000\n",
            "47/47 [==============================] - 0s 2ms/step - loss: 1.0496e-04 - accuracy: 1.0000\n",
            "47/47 [==============================] - 0s 2ms/step - loss: 8.7667e-05 - accuracy: 1.0000\n",
            "47/47 [==============================] - 0s 2ms/step - loss: 1.1388e-04 - accuracy: 1.0000\n",
            "47/47 [==============================] - 0s 3ms/step - loss: 1.1182e-04 - accuracy: 1.0000\n",
            "47/47 [==============================] - 0s 2ms/step - loss: 1.1182e-04 - accuracy: 1.0000\n",
            "47/47 [==============================] - 0s 2ms/step - loss: 1.6677e-04 - accuracy: 1.0000\n",
            "47/47 [==============================] - 0s 2ms/step - loss: 5.2807e-04 - accuracy: 1.0000\n",
            "47/47 [==============================] - 0s 2ms/step - loss: 0.0016 - accuracy: 1.0000\n",
            "47/47 [==============================] - 0s 2ms/step - loss: 0.0048 - accuracy: 0.9990\n",
            "47/47 [==============================] - 0s 2ms/step - loss: 0.0108 - accuracy: 0.9941\n",
            "47/47 [==============================] - 0s 3ms/step - loss: 0.0091 - accuracy: 0.9955\n",
            "47/47 [==============================] - 0s 2ms/step - loss: 0.0184 - accuracy: 0.9854\n",
            "47/47 [==============================] - 0s 2ms/step - loss: 0.0138 - accuracy: 0.9897\n",
            "47/47 [==============================] - 0s 2ms/step - loss: 0.0147 - accuracy: 0.9911\n",
            "47/47 [==============================] - 0s 2ms/step - loss: 0.0195 - accuracy: 0.9867\n",
            "47/47 [==============================] - 0s 2ms/step - loss: 0.0238 - accuracy: 0.9823\n",
            "47/47 [==============================] - 0s 2ms/step - loss: 0.0275 - accuracy: 0.9773\n",
            "47/47 [==============================] - 0s 3ms/step - loss: 0.0360 - accuracy: 0.9625\n",
            "47/47 [==============================] - 0s 2ms/step - loss: 0.0393 - accuracy: 0.9628\n",
            "47/47 [==============================] - 0s 2ms/step - loss: 0.0597 - accuracy: 0.9301\n",
            "47/47 [==============================] - 0s 2ms/step - loss: 0.0783 - accuracy: 0.9049\n",
            "47/47 [==============================] - 0s 2ms/step - loss: 0.1241 - accuracy: 0.8136\n",
            "47/47 [==============================] - 0s 2ms/step - loss: 0.1088 - accuracy: 0.8483\n",
            "47/47 [==============================] - 0s 2ms/step - loss: 0.1472 - accuracy: 0.7850\n",
            "47/47 [==============================] - 0s 2ms/step - loss: 0.1471 - accuracy: 0.7825\n",
            "47/47 [==============================] - 0s 2ms/step - loss: 0.1776 - accuracy: 0.7407\n",
            "47/47 [==============================] - 0s 2ms/step - loss: 0.2675 - accuracy: 0.6172\n",
            "47/47 [==============================] - 0s 2ms/step - loss: 0.2174 - accuracy: 0.6724\n",
            "47/47 [==============================] - 0s 2ms/step - loss: 0.2868 - accuracy: 0.5998\n",
            "47/47 [==============================] - 0s 2ms/step - loss: 0.2296 - accuracy: 0.6625\n",
            "47/47 [==============================] - 0s 2ms/step - loss: 0.2144 - accuracy: 0.6830\n",
            "47/47 [==============================] - 0s 2ms/step - loss: 0.2860 - accuracy: 0.5976\n",
            "47/47 [==============================] - 0s 2ms/step - loss: 0.2452 - accuracy: 0.6426\n",
            "47/47 [==============================] - 0s 2ms/step - loss: 0.2764 - accuracy: 0.6093\n",
            "47/47 [==============================] - 0s 2ms/step - loss: 0.2935 - accuracy: 0.5906\n",
            "47/47 [==============================] - 0s 2ms/step - loss: 0.2514 - accuracy: 0.6281\n",
            "47/47 [==============================] - 0s 2ms/step - loss: 8.0732e-05 - accuracy: 1.0000\n",
            "47/47 [==============================] - 0s 2ms/step - loss: 7.6753e-05 - accuracy: 1.0000\n",
            "47/47 [==============================] - 0s 2ms/step - loss: 6.9182e-05 - accuracy: 1.0000\n",
            "47/47 [==============================] - 0s 2ms/step - loss: 9.1222e-05 - accuracy: 1.0000\n",
            "47/47 [==============================] - 0s 2ms/step - loss: 1.0552e-04 - accuracy: 1.0000\n",
            "47/47 [==============================] - 0s 2ms/step - loss: 1.0552e-04 - accuracy: 1.0000\n",
            "47/47 [==============================] - 0s 3ms/step - loss: 1.8186e-04 - accuracy: 1.0000\n",
            "47/47 [==============================] - 0s 2ms/step - loss: 9.9084e-04 - accuracy: 1.0000\n",
            "47/47 [==============================] - 0s 2ms/step - loss: 0.0033 - accuracy: 0.9995\n",
            "47/47 [==============================] - 0s 2ms/step - loss: 0.0112 - accuracy: 0.9931\n",
            "47/47 [==============================] - 0s 2ms/step - loss: 0.0305 - accuracy: 0.9697\n",
            "47/47 [==============================] - 0s 2ms/step - loss: 0.0225 - accuracy: 0.9793\n",
            "47/47 [==============================] - 0s 3ms/step - loss: 0.0467 - accuracy: 0.9392\n",
            "47/47 [==============================] - 0s 2ms/step - loss: 0.0298 - accuracy: 0.9662\n",
            "47/47 [==============================] - 0s 2ms/step - loss: 0.0209 - accuracy: 0.9818\n",
            "47/47 [==============================] - 0s 2ms/step - loss: 0.0395 - accuracy: 0.9524\n",
            "47/47 [==============================] - 0s 2ms/step - loss: 0.0371 - accuracy: 0.9609\n",
            "47/47 [==============================] - 0s 2ms/step - loss: 0.0374 - accuracy: 0.9621\n",
            "47/47 [==============================] - 0s 2ms/step - loss: 0.0289 - accuracy: 0.9734\n",
            "47/47 [==============================] - 0s 2ms/step - loss: 0.0432 - accuracy: 0.9556\n",
            "47/47 [==============================] - 0s 2ms/step - loss: 0.0512 - accuracy: 0.9436\n",
            "47/47 [==============================] - 0s 2ms/step - loss: 0.0738 - accuracy: 0.9125\n",
            "47/47 [==============================] - 0s 2ms/step - loss: 0.0857 - accuracy: 0.8879\n",
            "47/47 [==============================] - 0s 2ms/step - loss: 0.1078 - accuracy: 0.8502\n",
            "47/47 [==============================] - 0s 2ms/step - loss: 0.1127 - accuracy: 0.8406\n",
            "47/47 [==============================] - 0s 2ms/step - loss: 0.1168 - accuracy: 0.8399\n",
            "47/47 [==============================] - 0s 2ms/step - loss: 0.1492 - accuracy: 0.7818\n",
            "47/47 [==============================] - 0s 2ms/step - loss: 0.2355 - accuracy: 0.6561\n",
            "47/47 [==============================] - 0s 2ms/step - loss: 0.1656 - accuracy: 0.7574\n",
            "47/47 [==============================] - 0s 2ms/step - loss: 0.2467 - accuracy: 0.6458\n",
            "47/47 [==============================] - 0s 2ms/step - loss: 0.1809 - accuracy: 0.7338\n",
            "47/47 [==============================] - 0s 2ms/step - loss: 0.1915 - accuracy: 0.7120\n",
            "47/47 [==============================] - 0s 2ms/step - loss: 0.2315 - accuracy: 0.6515\n",
            "47/47 [==============================] - 0s 2ms/step - loss: 0.2008 - accuracy: 0.6970\n",
            "47/47 [==============================] - 0s 2ms/step - loss: 0.2256 - accuracy: 0.6702\n",
            "47/47 [==============================] - 0s 2ms/step - loss: 0.2578 - accuracy: 0.6140\n",
            "47/47 [==============================] - 0s 2ms/step - loss: 0.2205 - accuracy: 0.6677\n"
          ]
        }
      ],
      "source": [
        "modelo2.fit(X_train, y_train, \n",
        "           batch_size=128, epochs=5,\n",
        "           verbose=0)\n",
        "\n",
        "i=0\n",
        "acur_NN_maior = []\n",
        "distancia = []\n",
        "for j in range(len(teste_Xtest)):\n",
        "  score, acc = modelo2.evaluate(teste_Xtest[j], teste_Ytest[j],\n",
        "                              batch_size=128)\n",
        "  acur_NN_maior.append(acc)\n",
        "  distancia.append(i)\n",
        "  i = i + 5\n",
        "\n",
        "####FILTRO GAUSSIANO####  \n",
        "modelo2.fit(X_train_Gauss, y_train, \n",
        "           batch_size=128, epochs=5,\n",
        "           verbose=0)\n",
        "\n",
        "i=0\n",
        "acur_NN_maior_Gauss = []\n",
        "distancia = []\n",
        "for j in range(len(teste_Xtest)):\n",
        "  X_test_Gauss = gaussian_filter1d(teste_Xtest[j],3)\n",
        "  score, acc = modelo2.evaluate(X_test_Gauss, teste_Ytest[j],\n",
        "                              batch_size=128)\n",
        "  acur_NN_maior_Gauss.append(acc)\n",
        "  distancia.append(i)\n",
        "  i = i + 5"
      ]
    },
    {
      "cell_type": "markdown",
      "metadata": {
        "id": "LYFXbU9aeluc"
      },
      "source": [
        "# PLOT DOS GRAFICOS REDES NEURAIS\n",
        "\n",
        "---\n",
        "\n"
      ]
    },
    {
      "cell_type": "code",
      "execution_count": null,
      "metadata": {
        "colab": {
          "base_uri": "https://localhost:8080/"
        },
        "id": "Qw60DV4pj0hd",
        "outputId": "3036f9d9-e7ab-43b6-9f91-096146121ce0"
      },
      "outputs": [
        {
          "output_type": "display_data",
          "data": {
            "text/plain": [
              "<Figure size 432x288 with 1 Axes>"
            ],
            "image/png": "[encoded data removed]"
          },
          "metadata": {
            "needs_background": "light"
          }
        },
        {
          "output_type": "display_data",
          "data": {
            "text/plain": [
              "<Figure size 432x288 with 1 Axes>"
            ],
            "image/png": "[encoded data removed]"
          },
          "metadata": {
            "needs_background": "light"
          }
        }
      ],
      "source": [
        "import matplotlib.pyplot as plt\n",
        "plt.plot(distancia,acur_NN_menor, '--', color = 'red')\n",
        "plt.plot(distancia,acur_NN_maior, color = 'blue')\n",
        "plt.show()\n",
        "\n",
        "plt.plot(distancia,acur_NN_menor_Gauss, '--', color='red')\n",
        "plt.plot(distancia,acur_NN_maior_Gauss, color = 'blue')\n",
        "plt.show()"
      ]
    }
  ],
  "metadata": {
    "colab": {
      "collapsed_sections": [
        "LYZE5qEGypBz"
      ],
      "provenance": [],
      "authorship_tag": "ABX9TyOm57mD4/vClnp1bs+2ZzK/",
      "include_colab_link": true
    },
    "gpuClass": "standard",
    "kernelspec": {
      "display_name": "Python 3",
      "name": "python3"
    },
    "language_info": {
      "name": "python"
    }
  },
  "nbformat": 4,
  "nbformat_minor": 0
}